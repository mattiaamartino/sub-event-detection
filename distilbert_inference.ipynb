{
 "cells": [
  {
   "cell_type": "code",
   "execution_count": null,
   "metadata": {},
   "outputs": [],
   "source": [
    "from transformers import pipeline\n",
    "from utils.preprocess_dataset import preprocess_dataframe\n",
    "import pandas as pd\n",
    "from tqdm import tqdm\n",
    "import os"
   ]
  },
  {
   "cell_type": "code",
   "execution_count": null,
   "metadata": {},
   "outputs": [],
   "source": [
    "eval_dataframes = []\n",
    "\n",
    "for filename in tqdm(os.listdir(\"cleaned_data/eval_data\")):\n",
    "    if filename.endswith(\".csv\"):\n",
    "        eval_dataframes.append(preprocess_dataframe(f\"cleaned_data/eval_data/{filename}\", \"eval\"))\n",
    "\n",
    "eval_data = pd.concat(eval_dataframes, ignore_index=True)"
   ]
  },
  {
   "cell_type": "code",
   "execution_count": null,
   "metadata": {},
   "outputs": [],
   "source": [
    "eval_data.head()"
   ]
  },
  {
   "cell_type": "markdown",
   "metadata": {},
   "source": [
    "## First Approach\n",
    "\n",
    "In this approach we use the distilbert version that we finetuned to infer each tweet in a period and then we do an ensembling for the prediction of the single period."
   ]
  },
  {
   "cell_type": "code",
   "execution_count": null,
   "metadata": {},
   "outputs": [],
   "source": [
    "classifier = pipeline('sentiment-analysis', model='model_output/checkpoint-288718', device=\"mps\")"
   ]
  },
  {
   "cell_type": "code",
   "execution_count": null,
   "metadata": {},
   "outputs": [],
   "source": [
    "def predict_event(text):\n",
    "    predictions = classifier(text)\n",
    "    label_1_prediction = 0\n",
    "    for prediction in predictions:\n",
    "        if prediction['label'] == 'LABEL_1':\n",
    "            label_1_prediction += prediction['score']\n",
    "        else: \n",
    "            label_1_prediction += 1 - prediction['score']\n",
    "    \n",
    "    label_1_prediction = label_1_prediction/len(predictions)\n",
    "    return {\"label\": 1, \"score\": label_1_prediction} if label_1_prediction > 0.5 else {\"label\": 0, \"score\": 1-label_1_prediction}"
   ]
  },
  {
   "cell_type": "code",
   "execution_count": null,
   "metadata": {},
   "outputs": [],
   "source": [
    "tqdm.pandas()\n",
    "eval_data[\"Result_app_1\"] = eval_data[\"Tweet\"].progress_apply(predict_event)"
   ]
  },
  {
   "cell_type": "code",
   "execution_count": null,
   "metadata": {},
   "outputs": [],
   "source": [
    "eval_data.to_csv(\"model_output/eval_data.csv\", index=False)"
   ]
  },
  {
   "cell_type": "code",
   "execution_count": null,
   "metadata": {},
   "outputs": [],
   "source": [
    "eval_data[\"Net_result_app_1\"] = eval_data[\"Result_app_1\"].apply(lambda x: x[\"label\"])"
   ]
  },
  {
   "cell_type": "code",
   "execution_count": null,
   "metadata": {},
   "outputs": [],
   "source": [
    "eval_data[\"Net_result_app_1\"].value_counts()"
   ]
  },
  {
   "cell_type": "code",
   "execution_count": null,
   "metadata": {},
   "outputs": [],
   "source": [
    "eval_data.columns"
   ]
  },
  {
   "cell_type": "code",
   "execution_count": null,
   "metadata": {},
   "outputs": [],
   "source": [
    "submission_app_1 = eval_data[[\"ID\", \"Net_result_app_1\"]]"
   ]
  },
  {
   "cell_type": "code",
   "execution_count": null,
   "metadata": {},
   "outputs": [],
   "source": [
    "submission_app_1.rename(columns={\"Net_result_app_1\": \"EventType\"}, inplace=True)\n",
    "submission_app_1[\"EventType\"] = submission_app_1[\"EventType\"].astype(float)\n",
    "submission_app_1"
   ]
  },
  {
   "cell_type": "code",
   "execution_count": null,
   "metadata": {},
   "outputs": [],
   "source": [
    "submission_app_1.to_csv(\"model_output/submissions/sub_1/submission.csv\", index=False)"
   ]
  },
  {
   "cell_type": "markdown",
   "metadata": {},
   "source": [
    "## Second Approach\n",
    "\n",
    "Here we use the finetuned model in order to create an embedding of each tweet, than we ensemble the embeddings of all the tweets in a period, so to create a \"period embedding\" and lastly we infer such embedding in a classifier, that will be:\n",
    "\n",
    "- A. The Classifier Head of the finetuned distilbert\n",
    "- B. A simple Logistic Classifier\n",
    "- C. A simple SVM\n",
    "- D. An XGBoost model\n"
   ]
  },
  {
   "cell_type": "markdown",
   "metadata": {},
   "source": [
    "### A. Applying an ensemble embedding to the classifier head of the finetuned distilbert"
   ]
  },
  {
   "cell_type": "code",
   "execution_count": null,
   "metadata": {},
   "outputs": [],
   "source": [
    "import pandas as pd\n",
    "from tqdm import tqdm\n",
    "import ast\n",
    "\n",
    "eval_data = pd.read_csv(\"model_output/submissions/sub_1/eval_data.csv\")\n",
    "eval_data['Tweet'] = eval_data['Tweet'].apply(ast.literal_eval)"
   ]
  },
  {
   "cell_type": "code",
   "execution_count": null,
   "metadata": {},
   "outputs": [],
   "source": [
    "from utils.finetuned_embedding import get_pre_classifier_output\n",
    "\n",
    "tqdm.pandas()\n",
    "eval_data[\"Embeddings_app_2\"] = eval_data[\"Tweet\"].progress_apply(get_pre_classifier_output)"
   ]
  },
  {
   "cell_type": "code",
   "execution_count": null,
   "metadata": {},
   "outputs": [],
   "source": [
    "eval_data.to_csv(\"model_output/submissions/sub_2/eval_data.csv\", index=False)"
   ]
  },
  {
   "cell_type": "code",
   "execution_count": null,
   "metadata": {},
   "outputs": [],
   "source": []
  }
 ],
 "metadata": {
  "kernelspec": {
   "display_name": "nlp_env",
   "language": "python",
   "name": "python3"
  },
  "language_info": {
   "codemirror_mode": {
    "name": "ipython",
    "version": 3
   },
   "file_extension": ".py",
   "mimetype": "text/x-python",
   "name": "python",
   "nbconvert_exporter": "python",
   "pygments_lexer": "ipython3",
   "version": "3.10.15"
  }
 },
 "nbformat": 4,
 "nbformat_minor": 2
}
