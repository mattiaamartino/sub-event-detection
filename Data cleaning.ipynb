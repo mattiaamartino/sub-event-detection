{
 "cells": [
  {
   "cell_type": "code",
   "execution_count": 53,
   "id": "051a794f-c516-434a-bcca-7a8429f07e80",
   "metadata": {},
   "outputs": [],
   "source": [
    "import os\n",
    "import pandas as pd\n",
    "import re\n",
    "\n",
    "\n",
    "def transform_hashtags(text):\n",
    "    \"\"\"Transforms hashtags into readable text.\"\"\"\n",
    "    hashtags = re.findall(r'#(\\w+)', text)\n",
    "    \n",
    "    for hashtag in hashtags:\n",
    "        words = hashtag.split('_')\n",
    "        separated_words = []\n",
    "        for word in words:\n",
    "            split_words = re.findall('[A-Z][^A-Z]*', word)\n",
    "            if split_words:\n",
    "                separated_words.extend(split_words)\n",
    "            else:\n",
    "                separated_words.append(word)\n",
    "        clean_text = ' '.join(separated_words).lower()\n",
    "        text = text.replace(f'#{hashtag}', clean_text)\n",
    "    return text\n",
    "    \n",
    "def clean_and_process_tweets(input_folder, output_folder):\n",
    "    os.makedirs(output_folder, exist_ok=True) #check folder \n",
    "    phrases_to_remove = [\n",
    "        r'follow & rt to enter!?\\.?', \n",
    "        r'rt & follow to enter!?\\.?' \n",
    "    ]\n",
    "    for file_name in os.listdir(input_folder):\n",
    "        if file_name.endswith('.csv'):\n",
    "            input_file_path = os.path.join(input_folder, file_name)\n",
    "            output_file_path = os.path.join(output_folder, file_name)\n",
    "            df = pd.read_csv(input_file_path)\n",
    "            duplicate_rows = df[df.duplicated()]\n",
    "            df = df.drop_duplicates() #1. Drop duplicates \n",
    "            \n",
    "            if 'Tweet' in df.columns:\n",
    "                duplicate_tweets = df[df.duplicated(subset='Tweet', keep=False)]\n",
    "                df = df.drop_duplicates(subset='Tweet') #2. Drop duplicates in Tweets \n",
    "                df['Tweet'] = df['Tweet'].apply(lambda x: str(x).lower()) #3 convert to lower case \n",
    "                df['Tweet'] = df['Tweet'].apply(lambda x: re.sub(r'http\\S+|www\\S+|https\\S+|htt…', '', str(x), flags=re.MULTILINE)) #4. Remove links \n",
    "                df['Tweet'] = df['Tweet'].apply(lambda x: re.sub(r'^rt\\s+', '', str(x))) #5. Remove RT from beginning of rows \n",
    "                df['Tweet'] = df['Tweet'].apply(lambda x: re.sub(r'@\\w+', '', str(x))) #6. Remove @usernames\n",
    "                df['Tweet'] = df['Tweet'].apply(transform_hashtags) #7. transform hashtags \n",
    "                df['Tweet'] = df['Tweet'].apply(lambda x: re.sub(r'#', '', str(x))) #8. remove leftover hashtags\n",
    "                for phrase in phrases_to_remove:\n",
    "                    df['Tweet'] = df['Tweet'].apply(lambda x: re.sub(phrase, '', str(x), flags=re.IGNORECASE)) # delete \"follow & rt to enter!\" or \"rt & follow to enter.\"\n",
    "                df['Tweet'] = df['Tweet'].apply(lambda x: re.sub(r'^:\\s*', '', str(x))) #9. Delete colons from beginning of rows \n",
    "            \n",
    "            df.to_csv(output_file_path, index=False) # Save dataset \n",
    "\n",
    "input_folder = 'input folder'\n",
    "output_folder = 'cleaned folder'\n",
    "clean_and_process_tweets(input_folder, output_folder)\n"
   ]
  },
  {
   "cell_type": "code",
   "execution_count": null,
   "id": "203eab50-24fa-4aaa-98a4-947a7539103c",
   "metadata": {},
   "outputs": [],
   "source": []
  }
 ],
 "metadata": {
  "kernelspec": {
   "display_name": "Python 3 (ipykernel)",
   "language": "python",
   "name": "python3"
  },
  "language_info": {
   "codemirror_mode": {
    "name": "ipython",
    "version": 3
   },
   "file_extension": ".py",
   "mimetype": "text/x-python",
   "name": "python",
   "nbconvert_exporter": "python",
   "pygments_lexer": "ipython3",
   "version": "3.11.7"
  }
 },
 "nbformat": 4,
 "nbformat_minor": 5
}
