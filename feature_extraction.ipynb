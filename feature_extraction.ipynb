{
 "cells": [
  {
   "cell_type": "code",
   "execution_count": null,
   "metadata": {},
   "outputs": [],
   "source": [
    "from utils.preprocess_dataset import preprocess_dataframe\n",
    "from tqdm import tqdm\n",
    "import pandas as pd\n",
    "import os"
   ]
  },
  {
   "cell_type": "code",
   "execution_count": null,
   "metadata": {},
   "outputs": [],
   "source": [
    "train_dataframes = []\n",
    "\n",
    "for filename in tqdm(os.listdir(\"cleaned_data/train_data\")):\n",
    "    if filename.endswith(\".csv\"):\n",
    "        train_dataframes.append(preprocess_dataframe(f\"cleaned_data/train_data/{filename}\", \"train\"))\n",
    "\n",
    "train_data = pd.concat(train_dataframes, ignore_index=True)\n",
    "del train_dataframes"
   ]
  },
  {
   "cell_type": "code",
   "execution_count": null,
   "metadata": {},
   "outputs": [],
   "source": [
    "train_data.head()"
   ]
  },
  {
   "cell_type": "code",
   "execution_count": null,
   "metadata": {},
   "outputs": [],
   "source": [
    "from collections import Counter\n",
    "import matplotlib.pyplot as plt\n",
    "\n",
    "unique_words_eventtype_0 = Counter()\n",
    "unique_words_eventtype_1 = Counter()\n",
    "\n",
    "for words in train_data[train_data[\"EventType\"] == 0][\"Unique Common Words\"]:\n",
    "    unique_words_eventtype_0.update(dict(words))\n",
    "\n",
    "for words in train_data[train_data[\"EventType\"] == 1][\"Unique Common Words\"]:\n",
    "    unique_words_eventtype_1.update(dict(words))\n",
    "\n",
    "fig, axes = plt.subplots(2, 1, figsize=(15, 10))\n",
    "\n",
    "axes[0].bar(unique_words_eventtype_0.keys(), unique_words_eventtype_0.values())\n",
    "axes[0].set_title('Unique Common Words for Non-Critical Minutes')\n",
    "axes[0].set_xlabel('Words')\n",
    "axes[0].set_ylabel('Frequency')\n",
    "axes[0].tick_params(axis='x', rotation=90)\n",
    "\n",
    "# EventType 1\n",
    "axes[1].bar(unique_words_eventtype_1.keys(), unique_words_eventtype_1.values())\n",
    "axes[1].set_title('Unique Common Words for Critical Minutes')\n",
    "axes[1].set_xlabel('Words')\n",
    "axes[1].set_ylabel('Frequency')\n",
    "axes[1].tick_params(axis='x', rotation=90)\n",
    "\n",
    "plt.tight_layout()\n",
    "plt.show()"
   ]
  },
  {
   "cell_type": "code",
   "execution_count": null,
   "metadata": {},
   "outputs": [],
   "source": [
    "unique_words_eventtype_0.total()"
   ]
  },
  {
   "cell_type": "code",
   "execution_count": null,
   "metadata": {},
   "outputs": [],
   "source": [
    "unique_words_eventtype_1.total()"
   ]
  },
  {
   "cell_type": "code",
   "execution_count": null,
   "metadata": {},
   "outputs": [],
   "source": [
    "train_data[\"Frequency of Unique Common Words\"] = train_data[\"Unique Common Words\"].apply(lambda x: sum(dict(x).values()))"
   ]
  },
  {
   "cell_type": "code",
   "execution_count": null,
   "metadata": {},
   "outputs": [],
   "source": [
    "train_data.head()"
   ]
  },
  {
   "cell_type": "code",
   "execution_count": null,
   "metadata": {},
   "outputs": [],
   "source": [
    "mean_event_0_freq = train_data[train_data[\"EventType\"] == 0][\"Frequency of Unique Common Words\"].mean()\n",
    "mean_event_1_freq = train_data[train_data[\"EventType\"] == 1][\"Frequency of Unique Common Words\"].mean()\n",
    "std_event_0_freq = train_data[train_data[\"EventType\"] == 0][\"Frequency of Unique Common Words\"].std()\n",
    "std_event_1_freq = train_data[train_data[\"EventType\"] == 1][\"Frequency of Unique Common Words\"].std()\n",
    "\n",
    "print(f\"Mean Frequency of Unique Common Words for Non-Critical Minutes: {mean_event_0_freq} +/- {std_event_0_freq}\")\n",
    "print(f\"Mean Frequency of Unique Common Words for Critical Minutes: {mean_event_1_freq} +/- {std_event_1_freq}\")"
   ]
  },
  {
   "cell_type": "code",
   "execution_count": null,
   "metadata": {},
   "outputs": [],
   "source": [
    "threshold = (mean_event_0_freq * (std_event_1_freq**2) + mean_event_1_freq * (std_event_0_freq**2)) / ((std_event_1_freq**2) + (std_event_0_freq**2))\n",
    "threshold"
   ]
  },
  {
   "cell_type": "code",
   "execution_count": null,
   "metadata": {},
   "outputs": [],
   "source": [
    "import numpy as np"
   ]
  },
  {
   "cell_type": "code",
   "execution_count": null,
   "metadata": {},
   "outputs": [],
   "source": [
    "a = (1 / std_event_0_freq**2) - (1 / std_event_1_freq**2)\n",
    "b = -2 * (mean_event_0_freq / std_event_0_freq**2 - mean_event_1_freq / std_event_1_freq**2)\n",
    "c = (mean_event_0_freq**2 / std_event_0_freq**2) - (mean_event_1_freq**2 / std_event_1_freq**2)\n",
    "\n",
    "coefficients = [a, b, c]\n",
    "gaussian_threshold = np.roots(coefficients)[0]\n",
    "gaussian_threshold"
   ]
  },
  {
   "cell_type": "code",
   "execution_count": null,
   "metadata": {},
   "outputs": [],
   "source": [
    "eval_dataframes = []\n",
    "\n",
    "for filename in tqdm(os.listdir(\"cleaned_data/eval_data\")):\n",
    "    if filename.endswith(\".csv\"):\n",
    "        eval_dataframes.append(preprocess_dataframe(f\"cleaned_data/eval_data/{filename}\", \"eval\"))\n",
    "\n",
    "eval_data = pd.concat(eval_dataframes, ignore_index=True)\n",
    "del eval_dataframes"
   ]
  },
  {
   "cell_type": "code",
   "execution_count": null,
   "metadata": {},
   "outputs": [],
   "source": [
    "eval_dataframes[\"Frequency of Unique Common Words\"] = eval_dataframes[\"Unique Common Words\"].apply(lambda x: sum(dict(x).values()))"
   ]
  },
  {
   "cell_type": "code",
   "execution_count": null,
   "metadata": {},
   "outputs": [],
   "source": [
    "eval_dataframes.head()"
   ]
  },
  {
   "cell_type": "code",
   "execution_count": null,
   "metadata": {},
   "outputs": [],
   "source": [
    "eval_dataframes[\"Simple_Model_Prediction\"] = eval_dataframes[\"Frequency of Unique Common Words\"].apply(lambda x: 1.0 if x > threshold else 0.0)\n",
    "eval_dataframes[\"Gaussian_Model_Prediction\"] = eval_dataframes[\"Frequency of Unique Common Words\"].apply(lambda x: 1.0 if x > gaussian_threshold else 0.0)"
   ]
  },
  {
   "cell_type": "code",
   "execution_count": null,
   "metadata": {},
   "outputs": [],
   "source": [
    "# submission = eval_dataframes[[\"ID\", \"Simple_Model_Prediction\"]]\n",
    "# submission.rename(columns={\"Simple_Model_Prediction\": \"EventType\"}, inplace=True)\n",
    "# submission.to_csv(\"model_output/submissions/sub_3/submission_simple.csv\", index=False)"
   ]
  },
  {
   "cell_type": "code",
   "execution_count": null,
   "metadata": {},
   "outputs": [],
   "source": [
    "# submission = eval_dataframes[[\"ID\", \"Gaussian_Model_Prediction\"]]\n",
    "# submission.rename(columns={\"Gaussian_Model_Prediction\": \"EventType\"}, inplace=True)\n",
    "# submission.to_csv(\"model_output/submissions/sub_3/submission_gaussian.csv\", index=False)"
   ]
  },
  {
   "cell_type": "markdown",
   "metadata": {},
   "source": [
    "# Representing the periods with TF-IDF metric and simple word embeddings"
   ]
  },
  {
   "cell_type": "code",
   "execution_count": null,
   "metadata": {},
   "outputs": [],
   "source": [
    "from utils.preprocess_dataset import pre_processing_feature_extraction\n",
    "from tqdm import tqdm\n",
    "import pandas as pd\n",
    "import os"
   ]
  },
  {
   "cell_type": "code",
   "execution_count": null,
   "metadata": {},
   "outputs": [],
   "source": [
    "train_dataframes = []\n",
    "\n",
    "for filename in tqdm(os.listdir(\"cleaned_data/final_approach/train_data\")):\n",
    "    if filename.endswith(\".csv\"):\n",
    "        train_dataframes.append(pre_processing_feature_extraction(f\"cleaned_data/final_approach/train_data/{filename}\", \"train\"))\n",
    "\n",
    "train_data = pd.concat(train_dataframes, ignore_index=True)\n",
    "del train_dataframes"
   ]
  },
  {
   "cell_type": "code",
   "execution_count": null,
   "metadata": {},
   "outputs": [],
   "source": [
    "train_data.head(20)"
   ]
  },
  {
   "cell_type": "code",
   "execution_count": null,
   "metadata": {},
   "outputs": [],
   "source": [
    "import gensim.downloader as api\n",
    "\n",
    "embedding_model = api.load(\"glove-twitter-200\")"
   ]
  },
  {
   "cell_type": "code",
   "execution_count": null,
   "metadata": {},
   "outputs": [],
   "source": [
    "import numpy as np\n",
    "def get_weighted_embedding(top_words, top_word_scores, model):\n",
    "    embeddings = [model[word] * score for word, score in zip(top_words, top_word_scores) if word in model]\n",
    "    return np.sum(embeddings, axis=0) if embeddings else np.zeros(model.vector_size)"
   ]
  },
  {
   "cell_type": "code",
   "execution_count": null,
   "metadata": {},
   "outputs": [],
   "source": [
    "tqdm.pandas()\n",
    "train_data[\"Weighted_Embedding\"] = train_data.progress_apply(lambda row: get_weighted_embedding(row[\"TopWords\"], row[\"TopWordScores\"], embedding_model), axis=1)"
   ]
  },
  {
   "cell_type": "code",
   "execution_count": null,
   "metadata": {},
   "outputs": [],
   "source": [
    "train_data.head()"
   ]
  },
  {
   "cell_type": "code",
   "execution_count": null,
   "metadata": {},
   "outputs": [],
   "source": [
    "from sklearn.decomposition import PCA\n",
    "from sklearn.model_selection import train_test_split\n",
    "from sklearn.metrics import accuracy_score\n",
    "from sklearn.linear_model import LogisticRegression\n",
    "import xgboost as xgb\n",
    "import matplotlib.pyplot as plt"
   ]
  },
  {
   "cell_type": "code",
   "execution_count": null,
   "metadata": {},
   "outputs": [],
   "source": [
    "X = np.stack(train_data[\"Weighted_Embedding\"].values)\n",
    "y = train_data[\"EventType\"].values"
   ]
  },
  {
   "cell_type": "code",
   "execution_count": null,
   "metadata": {},
   "outputs": [],
   "source": [
    "repr_2d_pca = PCA(n_components=2).fit_transform(X)\n",
    "repr_3d_pca = PCA(n_components=3).fit_transform(X)"
   ]
  },
  {
   "cell_type": "code",
   "execution_count": null,
   "metadata": {},
   "outputs": [],
   "source": [
    "plt.scatter(repr_2d_pca[:, 0], repr_2d_pca[:, 1], c=y, cmap=\"viridis\")"
   ]
  },
  {
   "cell_type": "code",
   "execution_count": null,
   "metadata": {},
   "outputs": [],
   "source": [
    "fig = plt.figure()\n",
    "ax = fig.add_subplot(111, projection='3d')\n",
    "ax.scatter(repr_3d_pca[:, 0], repr_3d_pca[:, 1], repr_3d_pca[:, 2], c=y, cmap=\"viridis\")"
   ]
  },
  {
   "cell_type": "code",
   "execution_count": null,
   "metadata": {},
   "outputs": [],
   "source": [
    "X_train, X_test, y_train, y_test = train_test_split(X, y, test_size=0.3, random_state=42)"
   ]
  },
  {
   "cell_type": "code",
   "execution_count": null,
   "metadata": {},
   "outputs": [],
   "source": [
    "clf = LogisticRegression(random_state=42, max_iter=1000).fit(X_train, y_train)\n",
    "y_pred = clf.predict(X_test)\n",
    "\n",
    "xgb_clf = xgb.XGBClassifier(random_state=42, use_label_encoder=False, eval_metric='logloss')\n",
    "xgb_clf.fit(X_train, y_train)\n",
    "y_pred_xgb = xgb_clf.predict(X_test)\n",
    "\n",
    "print(\"XGBoost Test set: \", accuracy_score(y_test, y_pred_xgb))\n",
    "print(\"Test set: \", accuracy_score(y_test, y_pred))"
   ]
  },
  {
   "cell_type": "code",
   "execution_count": null,
   "metadata": {},
   "outputs": [],
   "source": [
    "clf = LogisticRegression(random_state=42, max_iter=1000).fit(X, y)\n",
    "xgb_clf = xgb.XGBClassifier(random_state=42, use_label_encoder=False, eval_metric='logloss').fit(X, y)"
   ]
  },
  {
   "cell_type": "code",
   "execution_count": null,
   "metadata": {},
   "outputs": [],
   "source": [
    "eval_dataframes = []\n",
    "\n",
    "for filename in tqdm(os.listdir(\"cleaned_data/eval_data\")):\n",
    "    if filename.endswith(\".csv\"):\n",
    "        eval_dataframes.append(pre_processing_feature_extraction(f\"cleaned_data/eval_data/{filename}\", \"eval\"))\n",
    "\n",
    "eval_data = pd.concat(eval_dataframes, ignore_index=True)\n",
    "del eval_dataframes"
   ]
  },
  {
   "cell_type": "code",
   "execution_count": null,
   "metadata": {},
   "outputs": [],
   "source": [
    "eval_data[\"Weighted_Embedding\"] = eval_data.progress_apply(lambda row: get_weighted_embedding(row[\"TopWords\"], row[\"TopWordScores\"], embedding_model), axis=1)"
   ]
  },
  {
   "cell_type": "code",
   "execution_count": null,
   "metadata": {},
   "outputs": [],
   "source": [
    "predictions = xgb_clf.predict(np.stack(eval_data[\"Weighted_Embedding\"].values))"
   ]
  },
  {
   "cell_type": "code",
   "execution_count": null,
   "metadata": {},
   "outputs": [],
   "source": [
    "submission = eval_data[[\"ID\"]]"
   ]
  },
  {
   "cell_type": "code",
   "execution_count": null,
   "metadata": {},
   "outputs": [],
   "source": [
    "submission[\"EventType\"] = predictions"
   ]
  },
  {
   "cell_type": "code",
   "execution_count": null,
   "metadata": {},
   "outputs": [],
   "source": [
    "submission[\"EventType\"] = submission[\"EventType\"].astype(float)"
   ]
  },
  {
   "cell_type": "code",
   "execution_count": null,
   "metadata": {},
   "outputs": [],
   "source": [
    "submission.to_csv(\"model_output/submissions/sub_4/submission_xgb.csv\", index=False)"
   ]
  },
  {
   "cell_type": "code",
   "execution_count": null,
   "metadata": {},
   "outputs": [],
   "source": []
  }
 ],
 "metadata": {
  "kernelspec": {
   "display_name": "nlp_env",
   "language": "python",
   "name": "python3"
  },
  "language_info": {
   "codemirror_mode": {
    "name": "ipython",
    "version": 3
   },
   "file_extension": ".py",
   "mimetype": "text/x-python",
   "name": "python",
   "nbconvert_exporter": "python",
   "pygments_lexer": "ipython3",
   "version": "3.10.15"
  }
 },
 "nbformat": 4,
 "nbformat_minor": 2
}
